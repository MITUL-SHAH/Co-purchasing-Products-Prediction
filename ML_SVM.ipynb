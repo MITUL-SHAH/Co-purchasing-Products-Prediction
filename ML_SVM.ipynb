{
 "cells": [
  {
   "cell_type": "code",
   "execution_count": 1,
   "metadata": {
    "_cell_guid": "b1076dfc-b9ad-4769-8c92-a6c4dae69d19",
    "_uuid": "8f2839f25d086af736a60e9eeb907d3b93b6e0e5"
   },
   "outputs": [
    {
     "name": "stdout",
     "output_type": "stream",
     "text": [
      "['OutputRecommendation1.txt']\n"
     ]
    }
   ],
   "source": [
    "# This Python 3 environment comes with many helpful analytics libraries installed\n",
    "# It is defined by the kaggle/python docker image: https://github.com/kaggle/docker-python\n",
    "# For example, here's several helpful packages to load in \n",
    "\n",
    "import numpy as np # linear algebra\n",
    "import pandas as pd # data processing, CSV file I/O (e.g. pd.read_csv)\n",
    "\n",
    "# Input data files are available in the \"../input/\" directory.\n",
    "# For example, running this (by clicking run or pressing Shift+Enter) will list the files in the input directory\n",
    "\n",
    "import os\n",
    "print(os.listdir(\"../input\"))\n",
    "from tqdm import tqdm\n",
    "\n",
    "# Any results you write to the current directory are saved as output."
   ]
  },
  {
   "cell_type": "code",
   "execution_count": 2,
   "metadata": {
    "_cell_guid": "79c7e3d0-c299-4dcb-8224-4455121ee9b0",
    "_uuid": "d629ff2d2480ee46fbb7e2d37f6b5fab8052498a"
   },
   "outputs": [
    {
     "data": {
      "text/html": [
       "<div>\n",
       "<style scoped>\n",
       "    .dataframe tbody tr th:only-of-type {\n",
       "        vertical-align: middle;\n",
       "    }\n",
       "\n",
       "    .dataframe tbody tr th {\n",
       "        vertical-align: top;\n",
       "    }\n",
       "\n",
       "    .dataframe thead th {\n",
       "        text-align: right;\n",
       "    }\n",
       "</style>\n",
       "<table border=\"1\" class=\"dataframe\">\n",
       "  <thead>\n",
       "    <tr style=\"text-align: right;\">\n",
       "      <th></th>\n",
       "      <th>Id</th>\n",
       "      <th>ASIN</th>\n",
       "      <th>title</th>\n",
       "      <th>group</th>\n",
       "      <th>salesrank</th>\n",
       "      <th>copurchased</th>\n",
       "      <th>categories</th>\n",
       "      <th>totalReviews</th>\n",
       "      <th>avgRating</th>\n",
       "    </tr>\n",
       "  </thead>\n",
       "  <tbody>\n",
       "    <tr>\n",
       "      <th>0</th>\n",
       "      <td>1</td>\n",
       "      <td>0827229534</td>\n",
       "      <td>Patterns of Preaching</td>\n",
       "      <td>Book</td>\n",
       "      <td>396585</td>\n",
       "      <td>0804215715 156101074X 0687023955 0687074231 08...</td>\n",
       "      <td>Books Subjects Religion &amp; Spirituality Christi...</td>\n",
       "      <td>2</td>\n",
       "      <td>5.0</td>\n",
       "    </tr>\n",
       "    <tr>\n",
       "      <th>1</th>\n",
       "      <td>2</td>\n",
       "      <td>0738700797</td>\n",
       "      <td>Candlemas</td>\n",
       "      <td>Book</td>\n",
       "      <td>168596</td>\n",
       "      <td>0738700827 1567184960 1567182836 0738700525 07...</td>\n",
       "      <td>Books Subjects Religion &amp; Spirituality Earth-B...</td>\n",
       "      <td>12</td>\n",
       "      <td>4.5</td>\n",
       "    </tr>\n",
       "    <tr>\n",
       "      <th>2</th>\n",
       "      <td>4</td>\n",
       "      <td>0842328327</td>\n",
       "      <td>Life Application Bible Commentary</td>\n",
       "      <td>Book</td>\n",
       "      <td>631289</td>\n",
       "      <td>0842328130 0830818138 0842330313 0842328610 08...</td>\n",
       "      <td>Books Subjects Religion &amp; Spirituality Christi...</td>\n",
       "      <td>1</td>\n",
       "      <td>4.0</td>\n",
       "    </tr>\n",
       "    <tr>\n",
       "      <th>3</th>\n",
       "      <td>5</td>\n",
       "      <td>1577943082</td>\n",
       "      <td>Prayers That Avail Much for Business</td>\n",
       "      <td>Book</td>\n",
       "      <td>455160</td>\n",
       "      <td>157794349X 0892749504 1577941829 0892749563 15...</td>\n",
       "      <td>Books Subjects Religion &amp; Spirituality Christi...</td>\n",
       "      <td>0</td>\n",
       "      <td>0.0</td>\n",
       "    </tr>\n",
       "    <tr>\n",
       "      <th>4</th>\n",
       "      <td>6</td>\n",
       "      <td>0486220125</td>\n",
       "      <td>How the Other Half Lives</td>\n",
       "      <td>Book</td>\n",
       "      <td>188784</td>\n",
       "      <td>0486401960 0452283612 0486229076 0714840343 03...</td>\n",
       "      <td>Books Subjects Arts &amp; Photography Photography ...</td>\n",
       "      <td>17</td>\n",
       "      <td>4.0</td>\n",
       "    </tr>\n",
       "  </tbody>\n",
       "</table>\n",
       "</div>"
      ],
      "text/plain": [
       "   Id        ASIN    ...    totalReviews avgRating\n",
       "0   1  0827229534    ...               2       5.0\n",
       "1   2  0738700797    ...              12       4.5\n",
       "2   4  0842328327    ...               1       4.0\n",
       "3   5  1577943082    ...               0       0.0\n",
       "4   6  0486220125    ...              17       4.0\n",
       "\n",
       "[5 rows x 9 columns]"
      ]
     },
     "execution_count": 2,
     "metadata": {},
     "output_type": "execute_result"
    }
   ],
   "source": [
    "df = pd.read_csv('../input/OutputRecommendation1.txt')\n",
    "df.head()"
   ]
  },
  {
   "cell_type": "code",
   "execution_count": 3,
   "metadata": {},
   "outputs": [
    {
     "data": {
      "text/html": [
       "<div>\n",
       "<style scoped>\n",
       "    .dataframe tbody tr th:only-of-type {\n",
       "        vertical-align: middle;\n",
       "    }\n",
       "\n",
       "    .dataframe tbody tr th {\n",
       "        vertical-align: top;\n",
       "    }\n",
       "\n",
       "    .dataframe thead th {\n",
       "        text-align: right;\n",
       "    }\n",
       "</style>\n",
       "<table border=\"1\" class=\"dataframe\">\n",
       "  <thead>\n",
       "    <tr style=\"text-align: right;\">\n",
       "      <th></th>\n",
       "      <th>Id</th>\n",
       "      <th>ASIN</th>\n",
       "      <th>title</th>\n",
       "      <th>group</th>\n",
       "      <th>salesrank</th>\n",
       "      <th>copurchased</th>\n",
       "      <th>categories</th>\n",
       "      <th>totalReviews</th>\n",
       "      <th>avgRating</th>\n",
       "    </tr>\n",
       "  </thead>\n",
       "  <tbody>\n",
       "    <tr>\n",
       "      <th>16</th>\n",
       "      <td>21</td>\n",
       "      <td>0790747324</td>\n",
       "      <td>The Time Machine</td>\n",
       "      <td>DVD</td>\n",
       "      <td>795</td>\n",
       "      <td>B00007JMD8 6305350221 B00004RF9B B00005JKFR B0...</td>\n",
       "      <td>DVD Genres Drama General</td>\n",
       "      <td>140</td>\n",
       "      <td>4.5</td>\n",
       "    </tr>\n",
       "    <tr>\n",
       "      <th>29</th>\n",
       "      <td>37</td>\n",
       "      <td>B000056PNC</td>\n",
       "      <td>Mark Messier - Leader  Champion &amp; Legend</td>\n",
       "      <td>DVD</td>\n",
       "      <td>46018</td>\n",
       "      <td>B00020W0WO B0000C8AO7 B0002WZRUO B0000C8AO5 B0...</td>\n",
       "      <td>DVD Genres Sports General</td>\n",
       "      <td>7</td>\n",
       "      <td>3.5</td>\n",
       "    </tr>\n",
       "    <tr>\n",
       "      <th>32</th>\n",
       "      <td>42</td>\n",
       "      <td>B000056PNB</td>\n",
       "      <td>Pixote</td>\n",
       "      <td>DVD</td>\n",
       "      <td>19685</td>\n",
       "      <td>B0002LJTIG B00004TJRE B0001K2S36 B0000DIJON B0...</td>\n",
       "      <td>DVD Genres Art House &amp; International General</td>\n",
       "      <td>24</td>\n",
       "      <td>4.5</td>\n",
       "    </tr>\n",
       "    <tr>\n",
       "      <th>34</th>\n",
       "      <td>44</td>\n",
       "      <td>B000056PNE</td>\n",
       "      <td>The NBA's 100 Greatest Plays</td>\n",
       "      <td>DVD</td>\n",
       "      <td>33124</td>\n",
       "      <td>B0002IKSFC B0000C8AO1 B0001WTVU2 B00013F38U B0...</td>\n",
       "      <td>DVD Genres Sports General</td>\n",
       "      <td>13</td>\n",
       "      <td>4.0</td>\n",
       "    </tr>\n",
       "    <tr>\n",
       "      <th>108</th>\n",
       "      <td>149</td>\n",
       "      <td>B00000IC80</td>\n",
       "      <td>Pot O' Gold/Made for Each Other</td>\n",
       "      <td>DVD</td>\n",
       "      <td>51310</td>\n",
       "      <td>B00006AUGQ B00005RERR B0002KPHZ6</td>\n",
       "      <td>DVD Genres Comedy General</td>\n",
       "      <td>0</td>\n",
       "      <td>0.0</td>\n",
       "    </tr>\n",
       "  </tbody>\n",
       "</table>\n",
       "</div>"
      ],
      "text/plain": [
       "      Id        ASIN    ...    totalReviews avgRating\n",
       "16    21  0790747324    ...             140       4.5\n",
       "29    37  B000056PNC    ...               7       3.5\n",
       "32    42  B000056PNB    ...              24       4.5\n",
       "34    44  B000056PNE    ...              13       4.0\n",
       "108  149  B00000IC80    ...               0       0.0\n",
       "\n",
       "[5 rows x 9 columns]"
      ]
     },
     "execution_count": 3,
     "metadata": {},
     "output_type": "execute_result"
    }
   ],
   "source": [
    "dfDVD = df.loc[ df['group'] == 'DVD']\n",
    "dfDVD.head()\n"
   ]
  },
  {
   "cell_type": "code",
   "execution_count": 4,
   "metadata": {},
   "outputs": [
    {
     "data": {
      "text/html": [
       "<div>\n",
       "<style scoped>\n",
       "    .dataframe tbody tr th:only-of-type {\n",
       "        vertical-align: middle;\n",
       "    }\n",
       "\n",
       "    .dataframe tbody tr th {\n",
       "        vertical-align: top;\n",
       "    }\n",
       "\n",
       "    .dataframe thead th {\n",
       "        text-align: right;\n",
       "    }\n",
       "</style>\n",
       "<table border=\"1\" class=\"dataframe\">\n",
       "  <thead>\n",
       "    <tr style=\"text-align: right;\">\n",
       "      <th></th>\n",
       "      <th>ASINs</th>\n",
       "      <th>TitleSimilarity</th>\n",
       "      <th>CategorySimilarity</th>\n",
       "      <th>SalesRank</th>\n",
       "      <th>CoPurchasedProducts</th>\n",
       "    </tr>\n",
       "  </thead>\n",
       "  <tbody>\n",
       "  </tbody>\n",
       "</table>\n",
       "</div>"
      ],
      "text/plain": [
       "Empty DataFrame\n",
       "Columns: [ASINs, TitleSimilarity, CategorySimilarity, SalesRank, CoPurchasedProducts]\n",
       "Index: []"
      ]
     },
     "execution_count": 4,
     "metadata": {},
     "output_type": "execute_result"
    }
   ],
   "source": [
    "newDf = pd.DataFrame(columns=['ASINs', 'TitleSimilarity', 'CategorySimilarity', 'SalesRank', 'CoPurchasedProducts'])\n",
    "newDf"
   ]
  },
  {
   "cell_type": "code",
   "execution_count": 5,
   "metadata": {},
   "outputs": [],
   "source": [
    "for i in range(int(dfDVD.shape[0]/4)):\n",
    "    row = dfDVD.iloc[i][:]\n",
    "    rowASIN = row['ASIN']\n",
    "    cat_i = row['categories'].split(' ')\n",
    "    title_i = row['title'].split(' ')\n",
    "    #copurchasedASIN = row['copurchased'].split(' ')\n",
    "    for coASIN in dfDVD.iloc[i]['copurchased'].split(' '):\n",
    "        cat_jaccard_similarity = 0\n",
    "        title_jaccard_similarity = 0\n",
    "        cat_j_row = dfDVD.loc[ dfDVD['ASIN'] == coASIN ]\n",
    "        cat_j = cat_j_row['categories'].to_string().split(' ')[1:]\n",
    "#         if i<2:\n",
    "#             print(coASIN)\n",
    "#             print(cat_j)\n",
    "        cat_iUcat_j = set(cat_i).union(set(cat_j))\n",
    "        cat_iIcat_j = set(cat_i).intersection(set(cat_j))\n",
    "        if len(cat_iUcat_j)>0:\n",
    "            cat_jaccard_similarity = round( len(cat_iIcat_j)/len(cat_iUcat_j) , 2)\n",
    "        else:\n",
    "            cat_jaccard_similarity = 0\n",
    "        \n",
    "        title_j = cat_j_row['title'].to_string().split(' ')\n",
    "        title_iUtitle_j = set(title_i).union(set(title_j))\n",
    "        title_iItitle_j = set(title_i).intersection(set(title_j))\n",
    "        if len(title_iUtitle_j)>0:\n",
    "            title_jaccard_similarity = round( len(title_iItitle_j)/ len(title_iUtitle_j) , 2)\n",
    "        else:\n",
    "            title_jaccard_similarity = 0\n",
    "        l = int(row['salesrank'])\n",
    "        #print(cat_j_row['salesrank'].to_string().split(' ')[0])\n",
    "        try:\n",
    "            r =  int(cat_j_row['salesrank'].to_string().split(' ')[0] )\n",
    "            #print(l,r)\n",
    "            SalesRank = max( l, r)\n",
    "            newDf = newDf.append(pd.Series([ rowASIN+' '+coASIN, title_jaccard_similarity, cat_jaccard_similarity, SalesRank, \"Yes\" ], index=newDf.columns ), ignore_index=True)\n",
    "        except ValueError:\n",
    "            pass\n",
    "        "
   ]
  },
  {
   "cell_type": "code",
   "execution_count": 7,
   "metadata": {},
   "outputs": [
    {
     "data": {
      "text/html": [
       "<div>\n",
       "<style scoped>\n",
       "    .dataframe tbody tr th:only-of-type {\n",
       "        vertical-align: middle;\n",
       "    }\n",
       "\n",
       "    .dataframe tbody tr th {\n",
       "        vertical-align: top;\n",
       "    }\n",
       "\n",
       "    .dataframe thead th {\n",
       "        text-align: right;\n",
       "    }\n",
       "</style>\n",
       "<table border=\"1\" class=\"dataframe\">\n",
       "  <thead>\n",
       "    <tr style=\"text-align: right;\">\n",
       "      <th></th>\n",
       "      <th>ASINs</th>\n",
       "      <th>TitleSimilarity</th>\n",
       "      <th>CategorySimilarity</th>\n",
       "      <th>SalesRank</th>\n",
       "      <th>CoPurchasedProducts</th>\n",
       "    </tr>\n",
       "  </thead>\n",
       "  <tbody>\n",
       "    <tr>\n",
       "      <th>0</th>\n",
       "      <td>0790747324 B00007JMD8</td>\n",
       "      <td>0.00</td>\n",
       "      <td>0.44</td>\n",
       "      <td>74506</td>\n",
       "      <td>Yes</td>\n",
       "    </tr>\n",
       "    <tr>\n",
       "      <th>1</th>\n",
       "      <td>0790747324 6305350221</td>\n",
       "      <td>0.11</td>\n",
       "      <td>0.27</td>\n",
       "      <td>12021</td>\n",
       "      <td>Yes</td>\n",
       "    </tr>\n",
       "    <tr>\n",
       "      <th>2</th>\n",
       "      <td>0790747324 B00004RF9B</td>\n",
       "      <td>0.00</td>\n",
       "      <td>0.27</td>\n",
       "      <td>62320</td>\n",
       "      <td>Yes</td>\n",
       "    </tr>\n",
       "    <tr>\n",
       "      <th>3</th>\n",
       "      <td>0790747324 B00005JKFR</td>\n",
       "      <td>0.10</td>\n",
       "      <td>0.44</td>\n",
       "      <td>360637</td>\n",
       "      <td>Yes</td>\n",
       "    </tr>\n",
       "    <tr>\n",
       "      <th>4</th>\n",
       "      <td>0790747324 B00005NG6A</td>\n",
       "      <td>0.00</td>\n",
       "      <td>0.44</td>\n",
       "      <td>362669</td>\n",
       "      <td>Yes</td>\n",
       "    </tr>\n",
       "  </tbody>\n",
       "</table>\n",
       "</div>"
      ],
      "text/plain": [
       "                   ASINs         ...           CoPurchasedProducts\n",
       "0  0790747324 B00007JMD8         ...                           Yes\n",
       "1  0790747324 6305350221         ...                           Yes\n",
       "2  0790747324 B00004RF9B         ...                           Yes\n",
       "3  0790747324 B00005JKFR         ...                           Yes\n",
       "4  0790747324 B00005NG6A         ...                           Yes\n",
       "\n",
       "[5 rows x 5 columns]"
      ]
     },
     "execution_count": 7,
     "metadata": {},
     "output_type": "execute_result"
    }
   ],
   "source": [
    "newDf.head()"
   ]
  },
  {
   "cell_type": "code",
   "execution_count": 9,
   "metadata": {},
   "outputs": [
    {
     "data": {
      "text/plain": [
       "(12591, 5)"
      ]
     },
     "execution_count": 9,
     "metadata": {},
     "output_type": "execute_result"
    }
   ],
   "source": [
    "newDf.shape"
   ]
  },
  {
   "cell_type": "code",
   "execution_count": 10,
   "metadata": {},
   "outputs": [
    {
     "data": {
      "text/html": [
       "<div>\n",
       "<style scoped>\n",
       "    .dataframe tbody tr th:only-of-type {\n",
       "        vertical-align: middle;\n",
       "    }\n",
       "\n",
       "    .dataframe tbody tr th {\n",
       "        vertical-align: top;\n",
       "    }\n",
       "\n",
       "    .dataframe thead th {\n",
       "        text-align: right;\n",
       "    }\n",
       "</style>\n",
       "<table border=\"1\" class=\"dataframe\">\n",
       "  <thead>\n",
       "    <tr style=\"text-align: right;\">\n",
       "      <th></th>\n",
       "      <th>Id</th>\n",
       "      <th>ASIN</th>\n",
       "      <th>title</th>\n",
       "      <th>group</th>\n",
       "      <th>salesrank</th>\n",
       "      <th>copurchased</th>\n",
       "      <th>categories</th>\n",
       "      <th>totalReviews</th>\n",
       "      <th>avgRating</th>\n",
       "    </tr>\n",
       "  </thead>\n",
       "  <tbody>\n",
       "    <tr>\n",
       "      <th>0</th>\n",
       "      <td>1</td>\n",
       "      <td>0827229534</td>\n",
       "      <td>Patterns of Preaching</td>\n",
       "      <td>Book</td>\n",
       "      <td>396585</td>\n",
       "      <td>0804215715 156101074X 0687023955 0687074231 08...</td>\n",
       "      <td>Books Subjects Religion &amp; Spirituality Christi...</td>\n",
       "      <td>2</td>\n",
       "      <td>5.0</td>\n",
       "    </tr>\n",
       "    <tr>\n",
       "      <th>1</th>\n",
       "      <td>2</td>\n",
       "      <td>0738700797</td>\n",
       "      <td>Candlemas</td>\n",
       "      <td>Book</td>\n",
       "      <td>168596</td>\n",
       "      <td>0738700827 1567184960 1567182836 0738700525 07...</td>\n",
       "      <td>Books Subjects Religion &amp; Spirituality Earth-B...</td>\n",
       "      <td>12</td>\n",
       "      <td>4.5</td>\n",
       "    </tr>\n",
       "    <tr>\n",
       "      <th>2</th>\n",
       "      <td>4</td>\n",
       "      <td>0842328327</td>\n",
       "      <td>Life Application Bible Commentary</td>\n",
       "      <td>Book</td>\n",
       "      <td>631289</td>\n",
       "      <td>0842328130 0830818138 0842330313 0842328610 08...</td>\n",
       "      <td>Books Subjects Religion &amp; Spirituality Christi...</td>\n",
       "      <td>1</td>\n",
       "      <td>4.0</td>\n",
       "    </tr>\n",
       "    <tr>\n",
       "      <th>3</th>\n",
       "      <td>5</td>\n",
       "      <td>1577943082</td>\n",
       "      <td>Prayers That Avail Much for Business</td>\n",
       "      <td>Book</td>\n",
       "      <td>455160</td>\n",
       "      <td>157794349X 0892749504 1577941829 0892749563 15...</td>\n",
       "      <td>Books Subjects Religion &amp; Spirituality Christi...</td>\n",
       "      <td>0</td>\n",
       "      <td>0.0</td>\n",
       "    </tr>\n",
       "    <tr>\n",
       "      <th>4</th>\n",
       "      <td>6</td>\n",
       "      <td>0486220125</td>\n",
       "      <td>How the Other Half Lives</td>\n",
       "      <td>Book</td>\n",
       "      <td>188784</td>\n",
       "      <td>0486401960 0452283612 0486229076 0714840343 03...</td>\n",
       "      <td>Books Subjects Arts &amp; Photography Photography ...</td>\n",
       "      <td>17</td>\n",
       "      <td>4.0</td>\n",
       "    </tr>\n",
       "  </tbody>\n",
       "</table>\n",
       "</div>"
      ],
      "text/plain": [
       "   Id        ASIN    ...    totalReviews avgRating\n",
       "0   1  0827229534    ...               2       5.0\n",
       "1   2  0738700797    ...              12       4.5\n",
       "2   4  0842328327    ...               1       4.0\n",
       "3   5  1577943082    ...               0       0.0\n",
       "4   6  0486220125    ...              17       4.0\n",
       "\n",
       "[5 rows x 9 columns]"
      ]
     },
     "execution_count": 10,
     "metadata": {},
     "output_type": "execute_result"
    }
   ],
   "source": [
    "dfBook = df.loc[ df['group'] == 'Book' ]\n",
    "dfBook.head()"
   ]
  },
  {
   "cell_type": "code",
   "execution_count": 11,
   "metadata": {},
   "outputs": [
    {
     "name": "stderr",
     "output_type": "stream",
     "text": [
      "100%|██████████| 10659/10659 [01:27<00:00, 122.00it/s]\n"
     ]
    }
   ],
   "source": [
    "for i in tqdm(range(int(dfBook.shape[0]/25))):\n",
    "    bookASIN = dfBook.iloc[i]['ASIN']\n",
    "    dvdASIN = newDf.iloc[i]['ASINs'].split(' ')[0]\n",
    "    cat_i = dfBook.iloc[i]['categories'].split(' ')\n",
    "    title_i = dfBook.iloc[i]['title'].split(' ')\n",
    "    \n",
    "    cat_jaccard_similarity = 0\n",
    "    title_jaccard_similarity = 0\n",
    "    #cat_j_row = dfDVD.loc[ dfDVD['ASIN'] == coASIN ]\n",
    "    cat_j_row = dfBook.iloc[i][:]\n",
    "    cat_j = cat_j_row['categories'].split(' ')[1:]\n",
    "\n",
    "    cat_iUcat_j = set(cat_i).union(set(cat_j))\n",
    "    cat_iIcat_j = set(cat_i).intersection(set(cat_j))\n",
    "    if len(cat_iUcat_j)>0:\n",
    "        cat_jaccard_similarity = round( len(cat_iIcat_j)/len(cat_iUcat_j) , 2)\n",
    "    else:\n",
    "        cat_jaccard_similarity = 0\n",
    "\n",
    "    title_j = cat_j_row['title'].split(' ')\n",
    "    title_iUtitle_j = set(title_i).union(set(title_j))\n",
    "    title_iItitle_j = set(title_i).intersection(set(title_j))\n",
    "    if len(title_iUtitle_j)>0:\n",
    "        title_jaccard_similarity = round( len(title_iItitle_j)/ len(title_iUtitle_j) , 2)\n",
    "    else:\n",
    "        title_jaccard_similarity = 0\n",
    "    l = int(row['salesrank'])\n",
    "    #print(cat_j_row['salesrank'])\n",
    "    try:\n",
    "        r =  int(cat_j_row['salesrank'] )\n",
    "        #print(l,r)\n",
    "        SalesRank = max( l, r)\n",
    "        newDf = newDf.append(pd.Series([ rowASIN+' '+coASIN, title_jaccard_similarity, cat_jaccard_similarity, SalesRank, \"No\" ], index=newDf.columns ), ignore_index=True)\n",
    "    except ValueError:\n",
    "        pass"
   ]
  },
  {
   "cell_type": "code",
   "execution_count": 12,
   "metadata": {},
   "outputs": [
    {
     "data": {
      "text/plain": [
       "(23250, 5)"
      ]
     },
     "execution_count": 12,
     "metadata": {},
     "output_type": "execute_result"
    }
   ],
   "source": [
    "newDf.shape"
   ]
  },
  {
   "cell_type": "code",
   "execution_count": 13,
   "metadata": {},
   "outputs": [
    {
     "data": {
      "text/html": [
       "<div>\n",
       "<style scoped>\n",
       "    .dataframe tbody tr th:only-of-type {\n",
       "        vertical-align: middle;\n",
       "    }\n",
       "\n",
       "    .dataframe tbody tr th {\n",
       "        vertical-align: top;\n",
       "    }\n",
       "\n",
       "    .dataframe thead th {\n",
       "        text-align: right;\n",
       "    }\n",
       "</style>\n",
       "<table border=\"1\" class=\"dataframe\">\n",
       "  <thead>\n",
       "    <tr style=\"text-align: right;\">\n",
       "      <th></th>\n",
       "      <th>ASINs</th>\n",
       "      <th>TitleSimilarity</th>\n",
       "      <th>CategorySimilarity</th>\n",
       "      <th>SalesRank</th>\n",
       "    </tr>\n",
       "  </thead>\n",
       "  <tbody>\n",
       "    <tr>\n",
       "      <th>0</th>\n",
       "      <td>0790747324 B00007JMD8</td>\n",
       "      <td>0.00</td>\n",
       "      <td>0.44</td>\n",
       "      <td>74506</td>\n",
       "    </tr>\n",
       "    <tr>\n",
       "      <th>1</th>\n",
       "      <td>0790747324 6305350221</td>\n",
       "      <td>0.11</td>\n",
       "      <td>0.27</td>\n",
       "      <td>12021</td>\n",
       "    </tr>\n",
       "    <tr>\n",
       "      <th>2</th>\n",
       "      <td>0790747324 B00004RF9B</td>\n",
       "      <td>0.00</td>\n",
       "      <td>0.27</td>\n",
       "      <td>62320</td>\n",
       "    </tr>\n",
       "    <tr>\n",
       "      <th>3</th>\n",
       "      <td>0790747324 B00005JKFR</td>\n",
       "      <td>0.10</td>\n",
       "      <td>0.44</td>\n",
       "      <td>360637</td>\n",
       "    </tr>\n",
       "    <tr>\n",
       "      <th>4</th>\n",
       "      <td>0790747324 B00005NG6A</td>\n",
       "      <td>0.00</td>\n",
       "      <td>0.44</td>\n",
       "      <td>362669</td>\n",
       "    </tr>\n",
       "  </tbody>\n",
       "</table>\n",
       "</div>"
      ],
      "text/plain": [
       "                   ASINs    ...      SalesRank\n",
       "0  0790747324 B00007JMD8    ...          74506\n",
       "1  0790747324 6305350221    ...          12021\n",
       "2  0790747324 B00004RF9B    ...          62320\n",
       "3  0790747324 B00005JKFR    ...         360637\n",
       "4  0790747324 B00005NG6A    ...         362669\n",
       "\n",
       "[5 rows x 4 columns]"
      ]
     },
     "execution_count": 13,
     "metadata": {},
     "output_type": "execute_result"
    }
   ],
   "source": [
    "Y = newDf.pop('CoPurchasedProducts')\n",
    "X = newDf\n",
    "X.head()"
   ]
  },
  {
   "cell_type": "code",
   "execution_count": 15,
   "metadata": {},
   "outputs": [
    {
     "data": {
      "text/plain": [
       "0    Yes\n",
       "1    Yes\n",
       "2    Yes\n",
       "3    Yes\n",
       "4    Yes\n",
       "Name: CoPurchasedProducts, dtype: object"
      ]
     },
     "execution_count": 15,
     "metadata": {},
     "output_type": "execute_result"
    }
   ],
   "source": [
    "Y.head()"
   ]
  },
  {
   "cell_type": "code",
   "execution_count": 16,
   "metadata": {},
   "outputs": [
    {
     "data": {
      "text/html": [
       "<div>\n",
       "<style scoped>\n",
       "    .dataframe tbody tr th:only-of-type {\n",
       "        vertical-align: middle;\n",
       "    }\n",
       "\n",
       "    .dataframe tbody tr th {\n",
       "        vertical-align: top;\n",
       "    }\n",
       "\n",
       "    .dataframe thead th {\n",
       "        text-align: right;\n",
       "    }\n",
       "</style>\n",
       "<table border=\"1\" class=\"dataframe\">\n",
       "  <thead>\n",
       "    <tr style=\"text-align: right;\">\n",
       "      <th></th>\n",
       "      <th>TitleSimilarity</th>\n",
       "      <th>CategorySimilarity</th>\n",
       "      <th>SalesRank</th>\n",
       "    </tr>\n",
       "  </thead>\n",
       "  <tbody>\n",
       "    <tr>\n",
       "      <th>0</th>\n",
       "      <td>0.00</td>\n",
       "      <td>0.44</td>\n",
       "      <td>74506</td>\n",
       "    </tr>\n",
       "    <tr>\n",
       "      <th>1</th>\n",
       "      <td>0.11</td>\n",
       "      <td>0.27</td>\n",
       "      <td>12021</td>\n",
       "    </tr>\n",
       "    <tr>\n",
       "      <th>2</th>\n",
       "      <td>0.00</td>\n",
       "      <td>0.27</td>\n",
       "      <td>62320</td>\n",
       "    </tr>\n",
       "    <tr>\n",
       "      <th>3</th>\n",
       "      <td>0.10</td>\n",
       "      <td>0.44</td>\n",
       "      <td>360637</td>\n",
       "    </tr>\n",
       "    <tr>\n",
       "      <th>4</th>\n",
       "      <td>0.00</td>\n",
       "      <td>0.44</td>\n",
       "      <td>362669</td>\n",
       "    </tr>\n",
       "  </tbody>\n",
       "</table>\n",
       "</div>"
      ],
      "text/plain": [
       "   TitleSimilarity  CategorySimilarity SalesRank\n",
       "0             0.00                0.44     74506\n",
       "1             0.11                0.27     12021\n",
       "2             0.00                0.27     62320\n",
       "3             0.10                0.44    360637\n",
       "4             0.00                0.44    362669"
      ]
     },
     "execution_count": 16,
     "metadata": {},
     "output_type": "execute_result"
    }
   ],
   "source": [
    "X1 = newDf.pop('ASINs')\n",
    "X2 = newDf\n",
    "X2.head()"
   ]
  },
  {
   "cell_type": "code",
   "execution_count": 17,
   "metadata": {},
   "outputs": [
    {
     "name": "stdout",
     "output_type": "stream",
     "text": [
      "   CoPurchasedProducts_No  CoPurchasedProducts_Yes\n",
      "0                       0                        1\n",
      "1                       0                        1\n",
      "2                       0                        1\n",
      "3                       0                        1\n",
      "4                       0                        1\n"
     ]
    }
   ],
   "source": [
    "Y_onehot = Y.copy()\n",
    "Y_onehot = pd.get_dummies(Y_onehot, columns=['CoPurchasedProducts'], prefix ='CoPurchasedProducts')\n",
    "\n",
    "print(Y_onehot.head())"
   ]
  },
  {
   "cell_type": "code",
   "execution_count": 18,
   "metadata": {},
   "outputs": [
    {
     "data": {
      "text/plain": [
       "0        1\n",
       "1        1\n",
       "2        1\n",
       "3        1\n",
       "4        1\n",
       "5        1\n",
       "6        1\n",
       "7        1\n",
       "8        1\n",
       "9        1\n",
       "10       1\n",
       "11       1\n",
       "12       1\n",
       "13       1\n",
       "14       1\n",
       "15       1\n",
       "16       1\n",
       "17       1\n",
       "18       1\n",
       "19       1\n",
       "20       1\n",
       "21       1\n",
       "22       1\n",
       "23       1\n",
       "24       1\n",
       "25       1\n",
       "26       1\n",
       "27       1\n",
       "28       1\n",
       "29       1\n",
       "        ..\n",
       "23220    0\n",
       "23221    0\n",
       "23222    0\n",
       "23223    0\n",
       "23224    0\n",
       "23225    0\n",
       "23226    0\n",
       "23227    0\n",
       "23228    0\n",
       "23229    0\n",
       "23230    0\n",
       "23231    0\n",
       "23232    0\n",
       "23233    0\n",
       "23234    0\n",
       "23235    0\n",
       "23236    0\n",
       "23237    0\n",
       "23238    0\n",
       "23239    0\n",
       "23240    0\n",
       "23241    0\n",
       "23242    0\n",
       "23243    0\n",
       "23244    0\n",
       "23245    0\n",
       "23246    0\n",
       "23247    0\n",
       "23248    0\n",
       "23249    0\n",
       "Name: CoPurchasedProducts_Yes, Length: 23250, dtype: uint8"
      ]
     },
     "execution_count": 18,
     "metadata": {},
     "output_type": "execute_result"
    }
   ],
   "source": [
    "Y_onehot.pop('CoPurchasedProducts_Yes')"
   ]
  },
  {
   "cell_type": "code",
   "execution_count": 19,
   "metadata": {},
   "outputs": [],
   "source": [
    "from sklearn.model_selection import train_test_split\n",
    "X_train, X_test, y_train, y_test = train_test_split(X2, Y_onehot, test_size=0.4, random_state=42)"
   ]
  },
  {
   "cell_type": "code",
   "execution_count": 42,
   "metadata": {},
   "outputs": [],
   "source": [
    "from sklearn.svm import SVC\n",
    "model = SVC(C=1000, kernel='rbf', degree=2, gamma='auto', shrinking=True, tol=0.0001, cache_size=200, verbose=1, max_iter=-1, decision_function_shape='ovr', random_state=42)"
   ]
  },
  {
   "cell_type": "code",
   "execution_count": 43,
   "metadata": {},
   "outputs": [
    {
     "name": "stderr",
     "output_type": "stream",
     "text": [
      "/opt/conda/lib/python3.6/site-packages/sklearn/utils/validation.py:761: DataConversionWarning: A column-vector y was passed when a 1d array was expected. Please change the shape of y to (n_samples, ), for example using ravel().\n",
      "  y = column_or_1d(y, warn=True)\n"
     ]
    },
    {
     "name": "stdout",
     "output_type": "stream",
     "text": [
      "[LibSVM]"
     ]
    },
    {
     "data": {
      "text/plain": [
       "SVC(C=1000, cache_size=200, class_weight=None, coef0=0.0,\n",
       "  decision_function_shape='ovr', degree=2, gamma='auto', kernel='rbf',\n",
       "  max_iter=-1, probability=False, random_state=42, shrinking=True,\n",
       "  tol=0.0001, verbose=1)"
      ]
     },
     "execution_count": 43,
     "metadata": {},
     "output_type": "execute_result"
    }
   ],
   "source": [
    "model.fit(X_train,y_train)"
   ]
  },
  {
   "cell_type": "code",
   "execution_count": 44,
   "metadata": {},
   "outputs": [],
   "source": [
    "y_pred = model.predict(X_test)"
   ]
  },
  {
   "cell_type": "code",
   "execution_count": 46,
   "metadata": {},
   "outputs": [
    {
     "data": {
      "text/plain": [
       "0.8303225806451613"
      ]
     },
     "execution_count": 46,
     "metadata": {},
     "output_type": "execute_result"
    }
   ],
   "source": [
    "from sklearn.metrics import accuracy_score\n",
    "acc = accuracy_score(y_pred,y_test)\n",
    "acc"
   ]
  },
  {
   "cell_type": "code",
   "execution_count": null,
   "metadata": {},
   "outputs": [],
   "source": []
  }
 ],
 "metadata": {
  "kernelspec": {
   "display_name": "Python 3",
   "language": "python",
   "name": "python3"
  },
  "language_info": {
   "codemirror_mode": {
    "name": "ipython",
    "version": 3
   },
   "file_extension": ".py",
   "mimetype": "text/x-python",
   "name": "python",
   "nbconvert_exporter": "python",
   "pygments_lexer": "ipython3",
   "version": "3.6.8"
  }
 },
 "nbformat": 4,
 "nbformat_minor": 1
}
