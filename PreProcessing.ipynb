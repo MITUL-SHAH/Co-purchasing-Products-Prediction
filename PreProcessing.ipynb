{
 "cells": [
  {
   "cell_type": "code",
   "execution_count": null,
   "metadata": {},
   "outputs": [],
   "source": [
    "new_columns = ['Id','ASIN', 'title','group','salesrank', 'copurchased','categories' ,'totalReviews', 'avgRating']\n",
    "#new_columns2 = ['Id','ASIN', 'title','group','salesrank', 'copurchased','categories' ,'totalReviews', 'avgRating', 'DegreeCentrality', 'ClusteringCoeff']"
   ]
  },
  {
   "cell_type": "code",
   "execution_count": null,
   "metadata": {},
   "outputs": [],
   "source": [
    "fh1 = open('amazon-meta.txt','r')\n",
    "fh1Content = [i.strip() for i in fh8.readlines()]\n",
    "fh1.close()"
   ]
  },
  {
   "cell_type": "code",
   "execution_count": null,
   "metadata": {},
   "outputs": [],
   "source": [
    "!touch OutputRecommendation1.txt\n",
    "fh2 = open('OutputRecommendation1.txt','w')\n",
    "for i in range(len(new_columns)):\n",
    "    if i==len(new_columns)-1:\n",
    "        fh2.write(new_columns[i])\n",
    "    else:\n",
    "        fh2.write(new_columns[i]+',')\n",
    "fh2.write('\\n')"
   ]
  },
  {
   "cell_type": "code",
   "execution_count": null,
   "metadata": {},
   "outputs": [],
   "source": [
    "row = []\n",
    "count=0\n",
    "prev_line=['abc']\n",
    "for line in fh8Content:\n",
    "    line = line.split(':')\n",
    "    \n",
    "    if line[0] == 'Id':\n",
    "        row.clear()\n",
    "        row.append(line[1].strip())\n",
    "    elif line[0] == 'ASIN':\n",
    "        row.append(line[1].strip())\n",
    "    elif line[0] == 'title':\n",
    "        row.append(line[1].strip().replace(',',' '))\n",
    "    elif line[0] == 'group':\n",
    "        row.append(line[1].strip())\n",
    "    elif line[0] == 'salesrank':\n",
    "        row.append(line[1].strip())\n",
    "    elif line[0] == 'similar':\n",
    "        if line[1].split()[0] != '0':\n",
    "            similarASINs = line[1].split()[1:]\n",
    "            row.append(' '.join(similarASINs))\n",
    "    elif prev_line[0] == 'categories':\n",
    "        cat = '|'.join(line).split('|')\n",
    "        ans = []\n",
    "        for ele in cat:\n",
    "            ans.append(ele.split('[')[0].replace(',',' '))\n",
    "        ans = ans[1:]\n",
    "        final_ans = ' '.join(ans)\n",
    "        row.append(final_ans)\n",
    "    elif line[0] == 'reviews':\n",
    "        row.append(line[2].split('d')[0].strip())\n",
    "        row.append(line[-1].strip())\n",
    "        if len(row) == 9:\n",
    "            #Write in the output file.\n",
    "            for i in range(len(row)):\n",
    "                if i == len(row)-1:\n",
    "                    fh2.write(row[i])\n",
    "                else:\n",
    "                    fh2.write(row[i]+',')\n",
    "            fh2.write('\\n')\n",
    "            row.clear()\n",
    "    prev_line = line"
   ]
  },
  {
   "cell_type": "code",
   "execution_count": null,
   "metadata": {},
   "outputs": [],
   "source": [
    "fh2.close()"
   ]
  }
 ],
 "metadata": {
  "kernelspec": {
   "display_name": "Python 3",
   "language": "python",
   "name": "python3"
  },
  "language_info": {
   "codemirror_mode": {
    "name": "ipython",
    "version": 3
   },
   "file_extension": ".py",
   "mimetype": "text/x-python",
   "name": "python",
   "nbconvert_exporter": "python",
   "pygments_lexer": "ipython3",
   "version": "3.6.8"
  }
 },
 "nbformat": 4,
 "nbformat_minor": 2
}
